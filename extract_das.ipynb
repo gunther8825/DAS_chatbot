{
 "cells": [
  {
   "cell_type": "code",
   "execution_count": null,
   "id": "13f28e6a-1e65-49cc-988e-8bca67ace3ab",
   "metadata": {},
   "outputs": [],
   "source": [
    "# Load Libraries\n",
    "from google import genai\n",
    "from google.genai import types\n",
    "import pathlib\n",
    "import httpx\n",
    "import time\n",
    "import random\n",
    "import os\n",
    "import pandas as pd"
   ]
  },
  {
   "cell_type": "code",
   "execution_count": null,
   "id": "189d74fa-4f55-4556-a874-86ccb34ec646",
   "metadata": {},
   "outputs": [],
   "source": [
    "## Parameters to change for your configuration\n",
    "\n",
    "# Year to extract data.  If you don't want to go by year, change pdf_path, file_pref, and output_path\n",
    "year = '2015'     \n",
    "# Model you want to use\n",
    "model = \"gemini-2.5-flash\"\n",
    "# API Key path\n",
    "api_path = \"API_Keys/google_gemini_key.txt\"\n",
    "# PDF path\n",
    "pdf_path = '../data/'+year+'/'+year+'_articles.csv'\n",
    "# File path for where pdfs are located.\n",
    "file_pref = f\"../data/{year}/Afil/\" \n",
    "# Output csv file path\n",
    "output_path = year+'_das.csv' "
   ]
  },
  {
   "cell_type": "code",
   "execution_count": null,
   "id": "2a11ed0b-90d6-45ee-9c84-b33da5d1a9c1",
   "metadata": {},
   "outputs": [],
   "source": [
    "# Get file names from master spreadsheet\n",
    "# The spreadsheet includes columns\n",
    "# Afil: 0 or 1 depending if the the article has a author with an affiliation with CSHL. Sometimes we gather collaborator articles.\n",
    "# Publicatin type: The type of article such as Journal article, Book, Chapter, Conference, Interview, Preprint, etc.\n",
    "# DOI: the doi number of the publications\n",
    "# doi_file: the file name of pdf, which is based off of the doi numer with the '/' changed to '.' for file loading in python.\n",
    "\n",
    "df = pd.read_csv(pdf_path) # Where the data is located and the file naming scheme."
   ]
  },
  {
   "cell_type": "code",
   "execution_count": null,
   "id": "f680165e-b470-447a-a4dd-c2f1d6e8634f",
   "metadata": {},
   "outputs": [],
   "source": [
    "df = df[df['Afil']==1]  #Filter the spreadsheet to only have affiliated articles\n",
    "files = df[df['Publication type']=='Journal article']['doi_file'] # get a list of file names for only journal articles"
   ]
  },
  {
   "cell_type": "code",
   "execution_count": null,
   "id": "2b553f65-f551-4b7a-8a49-7cb483169248",
   "metadata": {},
   "outputs": [],
   "source": [
    "# Get api key for google gemini\n",
    "# This is an important step.  The key allows you to access the gemini api.\n",
    "# Keys should never be shared or hard coded into programs.\n",
    "# You can get a key by having a google account and clicking on Get API key here: https://aistudio.google.com/  (top right of the page)\n",
    "\n",
    "with open(api_path, \"r\", encoding=\"utf-8\") as file:\n",
    "    google_api = file.read()"
   ]
  },
  {
   "cell_type": "code",
   "execution_count": null,
   "id": "614dc207-a5bc-4f60-ad4b-c3340efa0496",
   "metadata": {},
   "outputs": [],
   "source": [
    "## Mini test to see that the AI works\n",
    "\n",
    "# client = genai.Client(api_key=google_api)\n",
    "\n",
    "# response = client.models.generate_content(\n",
    "#     model=\"gemini-2.0-flash\",\n",
    "#     contents=\"Explain how AI works in a few words\",\n",
    "# )\n",
    "\n",
    "# print(response.text)"
   ]
  },
  {
   "cell_type": "code",
   "execution_count": null,
   "id": "1fbfbcae-ed29-46f4-a869-10867ac75456",
   "metadata": {},
   "outputs": [],
   "source": [
    "# A function with a prompt for the LLM.  Briefly the promp asks to find and return just the data availability statment (DAS).\n",
    "\n",
    "client = genai.Client(api_key=google_api)\n",
    "def google_chat(file_name):\n",
    "    # Retrieve and encode the PDF byte\n",
    "    filepath = pathlib.Path(file_name)  # input file name to load\n",
    "    \n",
    "    prompt = \"\"\"\n",
    "    You are a helpful assistant. Search the PDF document for the *Data Availability Statement*, *Data Sharing Statement*, or any section titled *Data and Code Availability*.\n",
    "    \n",
    "    Instructions:\n",
    "    - Extract the **entire** statement **verbatim**.\n",
    "    - Do **not** use any text found in a 'Key Resources Table' or similarly labeled summary table.\n",
    "    - If no such statement exists in the document, respond exactly with: \"There is no data availability statement.\"\n",
    "    \"\"\"\n",
    "    response = client.models.generate_content(\n",
    "      model= model, #\"gemini-2.5-flash\", #gemini-2.0-flash  # You can change the model here.  Be aware of rate limits.  Available models: https://ai.google.dev/gemini-api/docs/rate-limits\n",
    "      contents=[\n",
    "          types.Part.from_bytes(\n",
    "            data=filepath.read_bytes(),   # looks at pdf\n",
    "            mime_type='application/pdf',  # type of documents (pdfs)\n",
    "          ),\n",
    "          prompt])   # incorporate prompt\n",
    "    \n",
    "    return response.text"
   ]
  },
  {
   "cell_type": "code",
   "execution_count": null,
   "id": "4a12ed9a-d626-443a-b570-562f31ab8cbb",
   "metadata": {},
   "outputs": [],
   "source": [
    "# The server is sometimes very busy so sometimes you have to try multiple times to get the LLM to respond.\n",
    "# Here it will try five times to get the model to respond.  Each time it will wait longer to increase a chance of a response.\n",
    "\n",
    "def multi_try(file_name):\n",
    "    for attempt in range(5):  # Attempt five times.  You can change the number if you see fit.\n",
    "        try:\n",
    "            result = google_chat(file_name) # If successful, will return DAS.\n",
    "            break\n",
    "        except Exception as e:                               # If not successful will print Attempt #{attempt} and wait.\n",
    "            print(f\"Attempt {attempt+1} failed: {e}\")\n",
    "            wait = 2 ** attempt + random.random()\n",
    "            time.sleep(wait)\n",
    "\n",
    "    return result\n"
   ]
  },
  {
   "cell_type": "code",
   "execution_count": null,
   "id": "42610fc3-e145-472e-9175-a7ad19d16116",
   "metadata": {
    "scrolled": true
   },
   "outputs": [],
   "source": [
    "# This sets up all of our functions to batch run multiple files.\n",
    "# Depending what model you choose it will only allow a certain number of requests a day.\n",
    "# The gemini-2.5-flash only allows 250 requests per day (RPD).\n",
    "\n",
    "\n",
    "file_list = [file_pref + f\"{filename}\" for filename in files]  # create full path to find the pdf.  You might have to change this for your needs.\n",
    "file_name = []  # Keep track of the successful runs\n",
    "results = []    # Get the DAS statement\n",
    "fail = []       # Keep track of the failures\n",
    "loc_start = 0   # Initialize\n",
    "loc = []        # Find location of success\n",
    "fail_loc = []   # Find location of failures\n",
    "\n",
    "\n",
    "for file in file_list:\n",
    "    try:\n",
    "        result = multi_try(file)  # This will try multiple times to access the LLM. If it is busy, this does not count as a request as part of your requests per day.\n",
    "        results.append(result)\n",
    "        file_name.append(file)\n",
    "        loc.append(loc_start)\n",
    "        loc_start +=1\n",
    "        time.sleep(6)             # For the current model you are only allowed 10 request per minute.  The wait makes sure we stick to this.\n",
    "        print(loc_start, file)\n",
    "    except:\n",
    "        print(loc_start,'FAILURE!')  # If there is an error (e.g. can't find file or not response from LLM) it will print FAILURE.\n",
    "        fail.append(file)\n",
    "        fail_loc.append(loc_start)\n",
    "        loc_start +=1"
   ]
  },
  {
   "cell_type": "code",
   "execution_count": null,
   "id": "2faf7310-9535-47a0-b46f-e505f9947cce",
   "metadata": {},
   "outputs": [],
   "source": [
    "file_path =  output_path\n",
    "\n",
    "df2 = pd.DataFrame({'file':file_name,         # the name of the first column and the data\n",
    "                   'das':results})            # the das for the pdf\n",
    "df2.to_csv(file_path, index=False, header=False)  # create a csv file with extracted data availability statements."
   ]
  },
  {
   "cell_type": "code",
   "execution_count": null,
   "id": "66d641d2-a20a-4632-a38e-ee0625abab9f",
   "metadata": {},
   "outputs": [],
   "source": [
    "print(len(fail))  # print how many failed"
   ]
  },
  {
   "cell_type": "code",
   "execution_count": null,
   "id": "ebc049b0-7de9-483b-a09f-d3edcf3fe81d",
   "metadata": {},
   "outputs": [],
   "source": [
    "fail # name of failed file"
   ]
  },
  {
   "cell_type": "code",
   "execution_count": null,
   "id": "25b0fa48-1171-450f-97ff-ca426d25ec1c",
   "metadata": {
    "scrolled": true
   },
   "outputs": [],
   "source": [
    "fail_loc  # location of failed pdf"
   ]
  },
  {
   "cell_type": "code",
   "execution_count": null,
   "id": "dc3d430d-b4dd-4f55-ac44-0466e8d0333c",
   "metadata": {},
   "outputs": [],
   "source": []
  },
  {
   "cell_type": "code",
   "execution_count": null,
   "id": "100a90b8-87e8-4495-9a80-3179728ab5fb",
   "metadata": {},
   "outputs": [],
   "source": []
  }
 ],
 "metadata": {
  "kernelspec": {
   "display_name": "Python 3 (ipykernel)",
   "language": "python",
   "name": "python3"
  },
  "language_info": {
   "codemirror_mode": {
    "name": "ipython",
    "version": 3
   },
   "file_extension": ".py",
   "mimetype": "text/x-python",
   "name": "python",
   "nbconvert_exporter": "python",
   "pygments_lexer": "ipython3",
   "version": "3.10.15"
  }
 },
 "nbformat": 4,
 "nbformat_minor": 5
}
